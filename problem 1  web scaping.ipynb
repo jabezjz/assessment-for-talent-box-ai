{
 "cells": [
  {
   "cell_type": "code",
   "execution_count": 4,
   "id": "29e9e0e2",
   "metadata": {},
   "outputs": [
    {
     "name": "stdout",
     "output_type": "stream",
     "text": [
      "Enter the name of the actor: john cena\n",
      "Actor not found.\n"
     ]
    }
   ],
   "source": [
    "import requests\n",
    "from bs4 import BeautifulSoup\n",
    "\n",
    "def get_actor_filmography(actor_name):\n",
    "    # Format the actor's name to fit the IMDb search URL\n",
    "    search_url = \"https://www.imdb.com/find?q=\" + '+'.join(actor_name.split())\n",
    "    \n",
    "    # Perform the search\n",
    "    search_response = requests.get(search_url)\n",
    "    search_soup = BeautifulSoup(search_response.text, 'html.parser')\n",
    "    \n",
    "    # Find the first result link to the actor's page\n",
    "    result = search_soup.find('td', class_='result_text')\n",
    "    if not result:\n",
    "        print(\"Actor not found.\")\n",
    "        return\n",
    "    \n",
    "    actor_page_link = result.a['href']\n",
    "    \n",
    "    # Construct the full URL to the actor's IMDb page\n",
    "    actor_page_url = \"https://www.imdb.com\" + actor_page_link\n",
    "    \n",
    "    # Get the actor's page\n",
    "    actor_response = requests.get(actor_page_url)\n",
    "    actor_soup = BeautifulSoup(actor_response.text, 'html.parser')\n",
    "    \n",
    "    # Find the filmography section\n",
    "    filmography_section = actor_soup.find('div', id='filmography')\n",
    "    if not filmography_section:\n",
    "        print(\"Filmography not found.\")\n",
    "        return\n",
    "    \n",
    "    # Extract movie titles and years\n",
    "    movies = filmography_section.find_all('div', class_='filmo-row')\n",
    "    movie_list = []\n",
    "    for movie in movies:\n",
    "        title = movie.b.find('a').text\n",
    "        year = movie.find('span', class_='year_column').text.strip()\n",
    "        if year:\n",
    "            movie_list.append((title, year))\n",
    "    \n",
    "    # Sort the movie list by year in descending order\n",
    "    movie_list.sort(key=lambda x: x[1], reverse=True)\n",
    "    \n",
    "    # Print the sorted filmography\n",
    "    print(f\"Filmography of {actor_name}:\")\n",
    "    for title, year in movie_list:\n",
    "        print(f\"{year}: {title}\")\n",
    "\n",
    "# Example usage\n",
    "actor_name = input(\"Enter the name of the actor: \")\n",
    "get_actor_filmography(actor_name)\n"
   ]
  },
  {
   "cell_type": "code",
   "execution_count": null,
   "id": "014b4717",
   "metadata": {},
   "outputs": [],
   "source": []
  }
 ],
 "metadata": {
  "kernelspec": {
   "display_name": "Python 3 (ipykernel)",
   "language": "python",
   "name": "python3"
  },
  "language_info": {
   "codemirror_mode": {
    "name": "ipython",
    "version": 3
   },
   "file_extension": ".py",
   "mimetype": "text/x-python",
   "name": "python",
   "nbconvert_exporter": "python",
   "pygments_lexer": "ipython3",
   "version": "3.9.12"
  }
 },
 "nbformat": 4,
 "nbformat_minor": 5
}
